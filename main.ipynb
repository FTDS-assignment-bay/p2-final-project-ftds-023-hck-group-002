{
 "cells": [
  {
   "cell_type": "code",
   "execution_count": 35,
   "metadata": {},
   "outputs": [],
   "source": [
    "import pandas as pd \n",
    "\n",
    "from great_expectations.data_context import FileDataContext\n"
   ]
  },
  {
   "cell_type": "markdown",
   "metadata": {},
   "source": [
    "## Data Loading"
   ]
  },
  {
   "cell_type": "code",
   "execution_count": 36,
   "metadata": {},
   "outputs": [],
   "source": [
    "df = pd.read_csv('retail_store_inventory.csv')"
   ]
  },
  {
   "cell_type": "markdown",
   "metadata": {},
   "source": [
    "### Data exploration\n",
    "\n",
    "The following is prelimenary explorations for checks of eronious/problematic data.. Mising data/incorrect field types, and also to plan next steps"
   ]
  },
  {
   "cell_type": "code",
   "execution_count": 37,
   "metadata": {},
   "outputs": [
    {
     "data": {
      "text/plain": [
       "Index(['Date', 'Store ID', 'Product ID', 'Category', 'Region',\n",
       "       'Inventory Level', 'Units Sold', 'Units Ordered', 'Demand Forecast',\n",
       "       'Price', 'Discount', 'Weather Condition', 'Holiday/Promotion',\n",
       "       'Competitor Pricing', 'Seasonality'],\n",
       "      dtype='object')"
      ]
     },
     "execution_count": 37,
     "metadata": {},
     "output_type": "execute_result"
    }
   ],
   "source": [
    "df.columns"
   ]
  },
  {
   "cell_type": "markdown",
   "metadata": {},
   "source": [
    "### Cleaning column header"
   ]
  },
  {
   "cell_type": "code",
   "execution_count": 38,
   "metadata": {},
   "outputs": [],
   "source": [
    "df.columns = df.columns.str.replace(' ', '_').str.replace('/', 'or')"
   ]
  },
  {
   "cell_type": "code",
   "execution_count": 39,
   "metadata": {},
   "outputs": [
    {
     "data": {
      "text/plain": [
       "Index(['Date', 'Store_ID', 'Product_ID', 'Category', 'Region',\n",
       "       'Inventory_Level', 'Units_Sold', 'Units_Ordered', 'Demand_Forecast',\n",
       "       'Price', 'Discount', 'Weather_Condition', 'HolidayorPromotion',\n",
       "       'Competitor_Pricing', 'Seasonality'],\n",
       "      dtype='object')"
      ]
     },
     "execution_count": 39,
     "metadata": {},
     "output_type": "execute_result"
    }
   ],
   "source": [
    "df.columns"
   ]
  },
  {
   "cell_type": "markdown",
   "metadata": {},
   "source": [
    "Printing out the first few data to see data structure"
   ]
  },
  {
   "cell_type": "code",
   "execution_count": 40,
   "metadata": {},
   "outputs": [
    {
     "data": {
      "text/html": [
       "<div>\n",
       "<style scoped>\n",
       "    .dataframe tbody tr th:only-of-type {\n",
       "        vertical-align: middle;\n",
       "    }\n",
       "\n",
       "    .dataframe tbody tr th {\n",
       "        vertical-align: top;\n",
       "    }\n",
       "\n",
       "    .dataframe thead th {\n",
       "        text-align: right;\n",
       "    }\n",
       "</style>\n",
       "<table border=\"1\" class=\"dataframe\">\n",
       "  <thead>\n",
       "    <tr style=\"text-align: right;\">\n",
       "      <th></th>\n",
       "      <th>Date</th>\n",
       "      <th>Store_ID</th>\n",
       "      <th>Product_ID</th>\n",
       "      <th>Category</th>\n",
       "      <th>Region</th>\n",
       "      <th>Inventory_Level</th>\n",
       "      <th>Units_Sold</th>\n",
       "      <th>Units_Ordered</th>\n",
       "      <th>Demand_Forecast</th>\n",
       "      <th>Price</th>\n",
       "      <th>Discount</th>\n",
       "      <th>Weather_Condition</th>\n",
       "      <th>HolidayorPromotion</th>\n",
       "      <th>Competitor_Pricing</th>\n",
       "      <th>Seasonality</th>\n",
       "    </tr>\n",
       "  </thead>\n",
       "  <tbody>\n",
       "    <tr>\n",
       "      <th>0</th>\n",
       "      <td>2022-01-01</td>\n",
       "      <td>S001</td>\n",
       "      <td>P0001</td>\n",
       "      <td>Groceries</td>\n",
       "      <td>North</td>\n",
       "      <td>231</td>\n",
       "      <td>127</td>\n",
       "      <td>55</td>\n",
       "      <td>135.47</td>\n",
       "      <td>33.50</td>\n",
       "      <td>20</td>\n",
       "      <td>Rainy</td>\n",
       "      <td>0</td>\n",
       "      <td>29.69</td>\n",
       "      <td>Autumn</td>\n",
       "    </tr>\n",
       "    <tr>\n",
       "      <th>1</th>\n",
       "      <td>2022-01-01</td>\n",
       "      <td>S001</td>\n",
       "      <td>P0002</td>\n",
       "      <td>Toys</td>\n",
       "      <td>South</td>\n",
       "      <td>204</td>\n",
       "      <td>150</td>\n",
       "      <td>66</td>\n",
       "      <td>144.04</td>\n",
       "      <td>63.01</td>\n",
       "      <td>20</td>\n",
       "      <td>Sunny</td>\n",
       "      <td>0</td>\n",
       "      <td>66.16</td>\n",
       "      <td>Autumn</td>\n",
       "    </tr>\n",
       "    <tr>\n",
       "      <th>2</th>\n",
       "      <td>2022-01-01</td>\n",
       "      <td>S001</td>\n",
       "      <td>P0003</td>\n",
       "      <td>Toys</td>\n",
       "      <td>West</td>\n",
       "      <td>102</td>\n",
       "      <td>65</td>\n",
       "      <td>51</td>\n",
       "      <td>74.02</td>\n",
       "      <td>27.99</td>\n",
       "      <td>10</td>\n",
       "      <td>Sunny</td>\n",
       "      <td>1</td>\n",
       "      <td>31.32</td>\n",
       "      <td>Summer</td>\n",
       "    </tr>\n",
       "    <tr>\n",
       "      <th>3</th>\n",
       "      <td>2022-01-01</td>\n",
       "      <td>S001</td>\n",
       "      <td>P0004</td>\n",
       "      <td>Toys</td>\n",
       "      <td>North</td>\n",
       "      <td>469</td>\n",
       "      <td>61</td>\n",
       "      <td>164</td>\n",
       "      <td>62.18</td>\n",
       "      <td>32.72</td>\n",
       "      <td>10</td>\n",
       "      <td>Cloudy</td>\n",
       "      <td>1</td>\n",
       "      <td>34.74</td>\n",
       "      <td>Autumn</td>\n",
       "    </tr>\n",
       "    <tr>\n",
       "      <th>4</th>\n",
       "      <td>2022-01-01</td>\n",
       "      <td>S001</td>\n",
       "      <td>P0005</td>\n",
       "      <td>Electronics</td>\n",
       "      <td>East</td>\n",
       "      <td>166</td>\n",
       "      <td>14</td>\n",
       "      <td>135</td>\n",
       "      <td>9.26</td>\n",
       "      <td>73.64</td>\n",
       "      <td>0</td>\n",
       "      <td>Sunny</td>\n",
       "      <td>0</td>\n",
       "      <td>68.95</td>\n",
       "      <td>Summer</td>\n",
       "    </tr>\n",
       "  </tbody>\n",
       "</table>\n",
       "</div>"
      ],
      "text/plain": [
       "         Date Store_ID Product_ID     Category Region  Inventory_Level  \\\n",
       "0  2022-01-01     S001      P0001    Groceries  North              231   \n",
       "1  2022-01-01     S001      P0002         Toys  South              204   \n",
       "2  2022-01-01     S001      P0003         Toys   West              102   \n",
       "3  2022-01-01     S001      P0004         Toys  North              469   \n",
       "4  2022-01-01     S001      P0005  Electronics   East              166   \n",
       "\n",
       "   Units_Sold  Units_Ordered  Demand_Forecast  Price  Discount  \\\n",
       "0         127             55           135.47  33.50        20   \n",
       "1         150             66           144.04  63.01        20   \n",
       "2          65             51            74.02  27.99        10   \n",
       "3          61            164            62.18  32.72        10   \n",
       "4          14            135             9.26  73.64         0   \n",
       "\n",
       "  Weather_Condition  HolidayorPromotion  Competitor_Pricing Seasonality  \n",
       "0             Rainy                   0               29.69      Autumn  \n",
       "1             Sunny                   0               66.16      Autumn  \n",
       "2             Sunny                   1               31.32      Summer  \n",
       "3            Cloudy                   1               34.74      Autumn  \n",
       "4             Sunny                   0               68.95      Summer  "
      ]
     },
     "execution_count": 40,
     "metadata": {},
     "output_type": "execute_result"
    }
   ],
   "source": [
    "df.head()"
   ]
  },
  {
   "cell_type": "code",
   "execution_count": 41,
   "metadata": {},
   "outputs": [
    {
     "data": {
      "text/html": [
       "<div>\n",
       "<style scoped>\n",
       "    .dataframe tbody tr th:only-of-type {\n",
       "        vertical-align: middle;\n",
       "    }\n",
       "\n",
       "    .dataframe tbody tr th {\n",
       "        vertical-align: top;\n",
       "    }\n",
       "\n",
       "    .dataframe thead th {\n",
       "        text-align: right;\n",
       "    }\n",
       "</style>\n",
       "<table border=\"1\" class=\"dataframe\">\n",
       "  <thead>\n",
       "    <tr style=\"text-align: right;\">\n",
       "      <th></th>\n",
       "      <th>Date</th>\n",
       "      <th>Store_ID</th>\n",
       "      <th>Product_ID</th>\n",
       "      <th>Category</th>\n",
       "      <th>Region</th>\n",
       "      <th>Inventory_Level</th>\n",
       "      <th>Units_Sold</th>\n",
       "      <th>Units_Ordered</th>\n",
       "      <th>Demand_Forecast</th>\n",
       "      <th>Price</th>\n",
       "      <th>Discount</th>\n",
       "      <th>Weather_Condition</th>\n",
       "      <th>HolidayorPromotion</th>\n",
       "      <th>Competitor_Pricing</th>\n",
       "      <th>Seasonality</th>\n",
       "    </tr>\n",
       "  </thead>\n",
       "  <tbody>\n",
       "    <tr>\n",
       "      <th>73095</th>\n",
       "      <td>2024-01-01</td>\n",
       "      <td>S005</td>\n",
       "      <td>P0016</td>\n",
       "      <td>Furniture</td>\n",
       "      <td>East</td>\n",
       "      <td>96</td>\n",
       "      <td>8</td>\n",
       "      <td>127</td>\n",
       "      <td>18.46</td>\n",
       "      <td>73.73</td>\n",
       "      <td>20</td>\n",
       "      <td>Snowy</td>\n",
       "      <td>0</td>\n",
       "      <td>72.45</td>\n",
       "      <td>Winter</td>\n",
       "    </tr>\n",
       "    <tr>\n",
       "      <th>73096</th>\n",
       "      <td>2024-01-01</td>\n",
       "      <td>S005</td>\n",
       "      <td>P0017</td>\n",
       "      <td>Toys</td>\n",
       "      <td>North</td>\n",
       "      <td>313</td>\n",
       "      <td>51</td>\n",
       "      <td>101</td>\n",
       "      <td>48.43</td>\n",
       "      <td>82.57</td>\n",
       "      <td>10</td>\n",
       "      <td>Cloudy</td>\n",
       "      <td>0</td>\n",
       "      <td>83.78</td>\n",
       "      <td>Autumn</td>\n",
       "    </tr>\n",
       "    <tr>\n",
       "      <th>73097</th>\n",
       "      <td>2024-01-01</td>\n",
       "      <td>S005</td>\n",
       "      <td>P0018</td>\n",
       "      <td>Clothing</td>\n",
       "      <td>West</td>\n",
       "      <td>278</td>\n",
       "      <td>36</td>\n",
       "      <td>151</td>\n",
       "      <td>39.65</td>\n",
       "      <td>11.11</td>\n",
       "      <td>10</td>\n",
       "      <td>Rainy</td>\n",
       "      <td>0</td>\n",
       "      <td>10.91</td>\n",
       "      <td>Winter</td>\n",
       "    </tr>\n",
       "    <tr>\n",
       "      <th>73098</th>\n",
       "      <td>2024-01-01</td>\n",
       "      <td>S005</td>\n",
       "      <td>P0019</td>\n",
       "      <td>Toys</td>\n",
       "      <td>East</td>\n",
       "      <td>374</td>\n",
       "      <td>264</td>\n",
       "      <td>21</td>\n",
       "      <td>270.52</td>\n",
       "      <td>53.14</td>\n",
       "      <td>20</td>\n",
       "      <td>Rainy</td>\n",
       "      <td>0</td>\n",
       "      <td>55.80</td>\n",
       "      <td>Spring</td>\n",
       "    </tr>\n",
       "    <tr>\n",
       "      <th>73099</th>\n",
       "      <td>2024-01-01</td>\n",
       "      <td>S005</td>\n",
       "      <td>P0020</td>\n",
       "      <td>Groceries</td>\n",
       "      <td>East</td>\n",
       "      <td>117</td>\n",
       "      <td>6</td>\n",
       "      <td>165</td>\n",
       "      <td>2.33</td>\n",
       "      <td>78.39</td>\n",
       "      <td>20</td>\n",
       "      <td>Rainy</td>\n",
       "      <td>1</td>\n",
       "      <td>79.52</td>\n",
       "      <td>Spring</td>\n",
       "    </tr>\n",
       "  </tbody>\n",
       "</table>\n",
       "</div>"
      ],
      "text/plain": [
       "             Date Store_ID Product_ID   Category Region  Inventory_Level  \\\n",
       "73095  2024-01-01     S005      P0016  Furniture   East               96   \n",
       "73096  2024-01-01     S005      P0017       Toys  North              313   \n",
       "73097  2024-01-01     S005      P0018   Clothing   West              278   \n",
       "73098  2024-01-01     S005      P0019       Toys   East              374   \n",
       "73099  2024-01-01     S005      P0020  Groceries   East              117   \n",
       "\n",
       "       Units_Sold  Units_Ordered  Demand_Forecast  Price  Discount  \\\n",
       "73095           8            127            18.46  73.73        20   \n",
       "73096          51            101            48.43  82.57        10   \n",
       "73097          36            151            39.65  11.11        10   \n",
       "73098         264             21           270.52  53.14        20   \n",
       "73099           6            165             2.33  78.39        20   \n",
       "\n",
       "      Weather_Condition  HolidayorPromotion  Competitor_Pricing Seasonality  \n",
       "73095             Snowy                   0               72.45      Winter  \n",
       "73096            Cloudy                   0               83.78      Autumn  \n",
       "73097             Rainy                   0               10.91      Winter  \n",
       "73098             Rainy                   0               55.80      Spring  \n",
       "73099             Rainy                   1               79.52      Spring  "
      ]
     },
     "execution_count": 41,
     "metadata": {},
     "output_type": "execute_result"
    }
   ],
   "source": [
    "df.tail()"
   ]
  },
  {
   "cell_type": "markdown",
   "metadata": {},
   "source": [
    "from the following we can see that the date is sequential"
   ]
  },
  {
   "cell_type": "code",
   "execution_count": 42,
   "metadata": {},
   "outputs": [
    {
     "data": {
      "text/plain": [
       "Date                    731\n",
       "Store_ID                  5\n",
       "Product_ID               20\n",
       "Category                  5\n",
       "Region                    4\n",
       "Inventory_Level         451\n",
       "Units_Sold              498\n",
       "Units_Ordered           181\n",
       "Demand_Forecast       31608\n",
       "Price                  8999\n",
       "Discount                  5\n",
       "Weather_Condition         4\n",
       "HolidayorPromotion        2\n",
       "Competitor_Pricing     9751\n",
       "Seasonality               4\n",
       "dtype: int64"
      ]
     },
     "execution_count": 42,
     "metadata": {},
     "output_type": "execute_result"
    }
   ],
   "source": [
    "df.nunique()"
   ]
  },
  {
   "cell_type": "markdown",
   "metadata": {},
   "source": [
    "from the following we can see that the likely columns that are categorical are for Seasonality, HolidayorPromotion, Weather_Condition, Discount, Region, Category,  product ID and store ID"
   ]
  },
  {
   "cell_type": "markdown",
   "metadata": {},
   "source": [
    "## EDA"
   ]
  },
  {
   "cell_type": "markdown",
   "metadata": {},
   "source": [
    "## PM Data Engineering(Data Exploration)"
   ]
  },
  {
   "cell_type": "markdown",
   "metadata": {},
   "source": [
    "### Check for missing Values"
   ]
  },
  {
   "cell_type": "code",
   "execution_count": 50,
   "metadata": {},
   "outputs": [
    {
     "name": "stdout",
     "output_type": "stream",
     "text": [
      "<class 'pandas.core.frame.DataFrame'>\n",
      "RangeIndex: 73100 entries, 0 to 73099\n",
      "Data columns (total 15 columns):\n",
      " #   Column              Non-Null Count  Dtype  \n",
      "---  ------              --------------  -----  \n",
      " 0   Date                73100 non-null  object \n",
      " 1   Store_ID            73100 non-null  object \n",
      " 2   Product_ID          73100 non-null  object \n",
      " 3   Category            73100 non-null  object \n",
      " 4   Region              73100 non-null  object \n",
      " 5   Inventory_Level     73100 non-null  int64  \n",
      " 6   Units_Sold          73100 non-null  int64  \n",
      " 7   Units_Ordered       73100 non-null  int64  \n",
      " 8   Demand_Forecast     73100 non-null  float64\n",
      " 9   Price               73100 non-null  float64\n",
      " 10  Discount            73100 non-null  int64  \n",
      " 11  Weather_Condition   73100 non-null  object \n",
      " 12  HolidayorPromotion  73100 non-null  int64  \n",
      " 13  Competitor_Pricing  73100 non-null  float64\n",
      " 14  Seasonality         73100 non-null  object \n",
      "dtypes: float64(3), int64(5), object(7)\n",
      "memory usage: 8.4+ MB\n"
     ]
    }
   ],
   "source": [
    "df.info()"
   ]
  },
  {
   "cell_type": "markdown",
   "metadata": {},
   "source": [
    "from the following there seems to be no null instance so we can move on."
   ]
  },
  {
   "cell_type": "code",
   "execution_count": 52,
   "metadata": {},
   "outputs": [
    {
     "data": {
      "text/plain": [
       "Date                    731\n",
       "Store_ID                  5\n",
       "Product_ID               20\n",
       "Category                  5\n",
       "Region                    4\n",
       "Inventory_Level         451\n",
       "Units_Sold              498\n",
       "Units_Ordered           181\n",
       "Demand_Forecast       31608\n",
       "Price                  8999\n",
       "Discount                  5\n",
       "Weather_Condition         4\n",
       "HolidayorPromotion        2\n",
       "Competitor_Pricing     9751\n",
       "Seasonality               4\n",
       "dtype: int64"
      ]
     },
     "execution_count": 52,
     "metadata": {},
     "output_type": "execute_result"
    }
   ],
   "source": [
    "df.nunique()"
   ]
  },
  {
   "cell_type": "code",
   "execution_count": null,
   "metadata": {},
   "outputs": [],
   "source": [
    "X = data.drop(['NObeyesdad'], axis = 1)\n",
    "y = data['NObeyesdad']\n",
    "X_train, X_test, y_train, y_test = train_test_split(X, y, test_size = 0.3, random_state = 1)\n",
    "print('Train Size', X_train.shape)\n",
    "print('Test Size', X_test.shape)\n"
   ]
  },
  {
   "cell_type": "markdown",
   "metadata": {},
   "source": [
    "likely the numerical values are Demand_Forecast, Units_Ordered, Units_Sold, Inventory_level, Price, and Competitor_Pricing due to their low cardinality"
   ]
  },
  {
   "cell_type": "code",
   "execution_count": 45,
   "metadata": {},
   "outputs": [],
   "source": [
    "num_cols = ['Demand_Forecast, Units_Ordered, Units_Sold, Inventory_level, Price, Competitor_Pricing']\n",
    "\n",
    "listItem= []\n",
    "\n",
    "for col in num_cols:\n",
    "  listItem.append([col, round(X_train[col].skew(),1), np.where(\n",
    "    (round(X_train[col].skew(),1) <= 0.5) & (round(X_train[col].skew(),1) >= -0.5),\n",
    "    'normal',\n",
    "    'skewed')])\n",
    "\n",
    "\n",
    "\n",
    "skewness = pd.DataFrame(columns=['column_name', 'skewness', 'distribution'], data= listItem)\n",
    "skewness\n"
   ]
  }
 ],
 "metadata": {
  "kernelspec": {
   "display_name": "Python 3",
   "language": "python",
   "name": "python3"
  },
  "language_info": {
   "codemirror_mode": {
    "name": "ipython",
    "version": 3
   },
   "file_extension": ".py",
   "mimetype": "text/x-python",
   "name": "python",
   "nbconvert_exporter": "python",
   "pygments_lexer": "ipython3",
   "version": "3.12.0"
  }
 },
 "nbformat": 4,
 "nbformat_minor": 2
}
